{
  "nbformat": 4,
  "nbformat_minor": 0,
  "metadata": {
    "colab": {
      "provenance": [],
      "authorship_tag": "ABX9TyMWxGRi3BDAUxA3a6EUfBKb",
      "include_colab_link": true
    },
    "kernelspec": {
      "name": "python3",
      "display_name": "Python 3"
    },
    "language_info": {
      "name": "python"
    }
  },
  "cells": [
    {
      "cell_type": "markdown",
      "metadata": {
        "id": "view-in-github",
        "colab_type": "text"
      },
      "source": [
        "<a href=\"https://colab.research.google.com/github/dsogden/NLP-Specialization/blob/main/Chap2_W1_Building_Vocab.ipynb\" target=\"_parent\"><img src=\"https://colab.research.google.com/assets/colab-badge.svg\" alt=\"Open In Colab\"/></a>"
      ]
    },
    {
      "cell_type": "code",
      "execution_count": 1,
      "metadata": {
        "id": "wP1N-3X3zGnD"
      },
      "outputs": [],
      "source": [
        "import re\n",
        "from collections import Counter\n",
        "import matplotlib.pyplot as plt"
      ]
    },
    {
      "cell_type": "code",
      "source": [
        "text = 'red pink pink blue blue yellow ORANGE BLUE BLUE PINK'\n",
        "print(text)\n",
        "print(f'String length: {len(text)}')"
      ],
      "metadata": {
        "colab": {
          "base_uri": "https://localhost:8080/"
        },
        "id": "4YBS-1CnzRmO",
        "outputId": "4674a605-2356-4cd1-92a9-c64cd5a4486f"
      },
      "execution_count": 2,
      "outputs": [
        {
          "output_type": "stream",
          "name": "stdout",
          "text": [
            "red pink pink blue blue yellow ORANGE BLUE BLUE PINK\n",
            "String length: 52\n"
          ]
        }
      ]
    },
    {
      "cell_type": "markdown",
      "source": [
        "## Prepocessing"
      ],
      "metadata": {
        "id": "gSG0DVgdzco3"
      }
    },
    {
      "cell_type": "code",
      "source": [
        "# convert all letters/words to lowercase\n",
        "text = text.lower()\n",
        "print(text)"
      ],
      "metadata": {
        "colab": {
          "base_uri": "https://localhost:8080/"
        },
        "id": "BJX4VPrrzZkc",
        "outputId": "97834f30-da11-4856-c815-d93fd2d3b5dd"
      },
      "execution_count": 3,
      "outputs": [
        {
          "output_type": "stream",
          "name": "stdout",
          "text": [
            "red pink pink blue blue yellow orange blue blue pink\n"
          ]
        }
      ]
    },
    {
      "cell_type": "code",
      "source": [
        "# regex to tokenize the string to words and return as list\n",
        "words = re.findall(r'\\w+', text)\n",
        "print(words)\n",
        "print(f'Length of words list: {len(words)}')"
      ],
      "metadata": {
        "colab": {
          "base_uri": "https://localhost:8080/"
        },
        "id": "FMseWA7hzkqa",
        "outputId": "0f77c9d1-6b83-43d2-fcb5-532e38cefc24"
      },
      "execution_count": 4,
      "outputs": [
        {
          "output_type": "stream",
          "name": "stdout",
          "text": [
            "['red', 'pink', 'pink', 'blue', 'blue', 'yellow', 'orange', 'blue', 'blue', 'pink']\n",
            "Length of words list: 10\n"
          ]
        }
      ]
    },
    {
      "cell_type": "markdown",
      "source": [
        "## Create vocabulary"
      ],
      "metadata": {
        "id": "GeEG2vA9z9bz"
      }
    },
    {
      "cell_type": "code",
      "source": [
        "vocab = set(words)\n",
        "print(vocab)\n",
        "print(f'Length of vocabulary: {len(vocab)}')"
      ],
      "metadata": {
        "colab": {
          "base_uri": "https://localhost:8080/"
        },
        "id": "dBmm6vxHz6Nc",
        "outputId": "c28dde4a-626d-4ff4-c7b6-9084e5d2435c"
      },
      "execution_count": 6,
      "outputs": [
        {
          "output_type": "stream",
          "name": "stdout",
          "text": [
            "{'pink', 'orange', 'yellow', 'blue', 'red'}\n",
            "Length of vocabulary: 5\n"
          ]
        }
      ]
    },
    {
      "cell_type": "markdown",
      "source": [
        "### Add information with Word Counts"
      ],
      "metadata": {
        "id": "F3MYWXZb0HcP"
      }
    },
    {
      "cell_type": "code",
      "source": [
        "counts_a = {}\n",
        "for word in words:\n",
        "    if word in counts_a:\n",
        "        counts_a[word] += 1\n",
        "    else:\n",
        "        counts_a[word] = 1\n",
        "counts_a"
      ],
      "metadata": {
        "colab": {
          "base_uri": "https://localhost:8080/"
        },
        "id": "wNiictwP0EnE",
        "outputId": "ff1cfefd-d8f5-43cc-f371-2463a1bd1a24"
      },
      "execution_count": 7,
      "outputs": [
        {
          "output_type": "execute_result",
          "data": {
            "text/plain": [
              "{'red': 1, 'pink': 3, 'blue': 4, 'yellow': 1, 'orange': 1}"
            ]
          },
          "metadata": {},
          "execution_count": 7
        }
      ]
    },
    {
      "cell_type": "code",
      "source": [
        "counts_b = Counter(words)\n",
        "counts_b"
      ],
      "metadata": {
        "colab": {
          "base_uri": "https://localhost:8080/"
        },
        "id": "pyJbB86f0Ycp",
        "outputId": "998567c4-aa99-4a9b-a019-f9970af8843b"
      },
      "execution_count": 9,
      "outputs": [
        {
          "output_type": "execute_result",
          "data": {
            "text/plain": [
              "Counter({'red': 1, 'pink': 3, 'blue': 4, 'yellow': 1, 'orange': 1})"
            ]
          },
          "metadata": {},
          "execution_count": 9
        }
      ]
    },
    {
      "cell_type": "code",
      "source": [
        "plt.bar(range(len(counts_a)), list(counts_a.values()), align='center', color=counts_a.keys())\n",
        "plt.xticks(range(5), list(counts_a.keys()))\n",
        "plt.show()"
      ],
      "metadata": {
        "colab": {
          "base_uri": "https://localhost:8080/",
          "height": 430
        },
        "id": "eO6bFzhY0eM4",
        "outputId": "ce735a56-be7c-4008-a4dd-a3bec03887b7"
      },
      "execution_count": 14,
      "outputs": [
        {
          "output_type": "display_data",
          "data": {
            "text/plain": [
              "<Figure size 640x480 with 1 Axes>"
            ],
            "image/png": "[encoded data removed]"
          },
          "metadata": {}
        }
      ]
    },
    {
      "cell_type": "code",
      "source": [],
      "metadata": {
        "id": "ApOQBvnr03AK"
      },
      "execution_count": null,
      "outputs": []
    }
  ]
}