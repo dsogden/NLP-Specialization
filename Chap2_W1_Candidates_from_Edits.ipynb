{
  "nbformat": 4,
  "nbformat_minor": 0,
  "metadata": {
    "colab": {
      "provenance": [],
      "authorship_tag": "ABX9TyOksznvMOCeZxOrrvJriUx9",
      "include_colab_link": true
    },
    "kernelspec": {
      "name": "python3",
      "display_name": "Python 3"
    },
    "language_info": {
      "name": "python"
    }
  },
  "cells": [
    {
      "cell_type": "markdown",
      "metadata": {
        "id": "view-in-github",
        "colab_type": "text"
      },
      "source": [
        "<a href=\"https://colab.research.google.com/github/dsogden/NLP-Specialization/blob/main/Chap2_W1_Candidates_from_Edits.ipynb\" target=\"_parent\"><img src=\"https://colab.research.google.com/assets/colab-badge.svg\" alt=\"Open In Colab\"/></a>"
      ]
    },
    {
      "cell_type": "code",
      "execution_count": 1,
      "metadata": {
        "colab": {
          "base_uri": "https://localhost:8080/"
        },
        "id": "EQX068Aq36uB",
        "outputId": "1efea693-1086-4348-b81f-f2887f8d5833"
      },
      "outputs": [
        {
          "output_type": "stream",
          "name": "stdout",
          "text": [
            "['', 'dearz']\n",
            "['d', 'earz']\n",
            "['de', 'arz']\n",
            "['dea', 'rz']\n",
            "['dear', 'z']\n",
            "['dearz', '']\n"
          ]
        }
      ],
      "source": [
        "word = 'dearz'\n",
        "splits_a = []\n",
        "n = len(word) + 1\n",
        "for i in range(n):\n",
        "    splits_a.append([word[:i], word[i:]])\n",
        "\n",
        "for i in splits_a:\n",
        "    print(i)"
      ]
    },
    {
      "cell_type": "code",
      "source": [
        "splits_b = [(word[:i], word[i:]) for i in range(n)]\n",
        "print(splits_b)"
      ],
      "metadata": {
        "colab": {
          "base_uri": "https://localhost:8080/"
        },
        "id": "iRjVrmi94Qx1",
        "outputId": "95f4de91-c3cc-4cd1-d309-104ee1a4a1a5"
      },
      "execution_count": 2,
      "outputs": [
        {
          "output_type": "stream",
          "name": "stdout",
          "text": [
            "[('', 'dearz'), ('d', 'earz'), ('de', 'arz'), ('dea', 'rz'), ('dear', 'z'), ('dearz', '')]\n"
          ]
        }
      ]
    },
    {
      "cell_type": "markdown",
      "source": [
        "### Delete Edit"
      ],
      "metadata": {
        "id": "GqYOlGDs4qxd"
      }
    },
    {
      "cell_type": "code",
      "source": [
        "splits = splits_a\n",
        "deletes = [L + R[1:] for L, R in splits if R]\n",
        "print('word: ', word)\n",
        "\n",
        "for L, R in splits:\n",
        "    if R:\n",
        "        print(L + R[1:], '<-- delete', R[0])"
      ],
      "metadata": {
        "colab": {
          "base_uri": "https://localhost:8080/"
        },
        "id": "WVtVtfaE4fI0",
        "outputId": "8892ff42-3ca0-4793-ec88-4888c6c511ba"
      },
      "execution_count": 4,
      "outputs": [
        {
          "output_type": "stream",
          "name": "stdout",
          "text": [
            "word:  dearz\n",
            "earz <-- delete d\n",
            "darz <-- delete e\n",
            "derz <-- delete a\n",
            "deaz <-- delete r\n",
            "dear <-- delete z\n"
          ]
        }
      ]
    },
    {
      "cell_type": "code",
      "source": [
        "vocab = ['dean', 'deer', 'dear', 'fries', 'and', 'coke']\n",
        "edits = list(deletes)\n",
        "candidates = []\n",
        "vocab = set(vocab)\n",
        "edits = set(edits)\n",
        "candidates.append(vocab.intersection(edits).pop())\n",
        "candidates"
      ],
      "metadata": {
        "colab": {
          "base_uri": "https://localhost:8080/"
        },
        "id": "d7hHUZ8D4351",
        "outputId": "2d549f2d-9a4f-48e5-862f-600ee58f6a5f"
      },
      "execution_count": 10,
      "outputs": [
        {
          "output_type": "execute_result",
          "data": {
            "text/plain": [
              "['dear']"
            ]
          },
          "metadata": {},
          "execution_count": 10
        }
      ]
    },
    {
      "cell_type": "code",
      "source": [],
      "metadata": {
        "id": "24cza8z35ccA"
      },
      "execution_count": null,
      "outputs": []
    }
  ]
}