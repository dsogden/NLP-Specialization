{
  "nbformat": 4,
  "nbformat_minor": 0,
  "metadata": {
    "colab": {
      "provenance": [],
      "authorship_tag": "ABX9TyO038yX6e6WaTp4eZF6FW6s",
      "include_colab_link": true
    },
    "kernelspec": {
      "name": "python3",
      "display_name": "Python 3"
    },
    "language_info": {
      "name": "python"
    }
  },
  "cells": [
    {
      "cell_type": "markdown",
      "metadata": {
        "id": "view-in-github",
        "colab_type": "text"
      },
      "source": [
        "<a href=\"https://colab.research.google.com/github/dsogden/NLP-Specialization/blob/main/Chap3_W1_Hidden_State.ipynb\" target=\"_parent\"><img src=\"https://colab.research.google.com/assets/colab-badge.svg\" alt=\"Open In Colab\"/></a>"
      ]
    },
    {
      "cell_type": "code",
      "execution_count": 1,
      "metadata": {
        "id": "GcuI4_pmRFfL"
      },
      "outputs": [],
      "source": [
        "import numpy as np"
      ]
    },
    {
      "cell_type": "markdown",
      "source": [
        "### Weights"
      ],
      "metadata": {
        "id": "mJ1ho2VbRVTN"
      }
    },
    {
      "cell_type": "code",
      "source": [
        "w_hh = np.full((3, 2), 1)\n",
        "w_hx = np.full((3, 3), 9)\n",
        "print(f'Weights h = {w_hh}')\n",
        "print(f'Weights h.shape = {w_hh.shape}')\n",
        "print(f'Weights x = {w_hx}')\n",
        "print(f'Weights x.shape = {w_hx.shape}')\n",
        "\n",
        "concat = np.concatenate([w_hh, w_hx], axis=1)\n",
        "print(f'New matrix: {concat}')"
      ],
      "metadata": {
        "colab": {
          "base_uri": "https://localhost:8080/"
        },
        "id": "2tMqaengRUw2",
        "outputId": "11c9e6cc-ebfb-427e-fd88-8836e8818ac7"
      },
      "execution_count": 4,
      "outputs": [
        {
          "output_type": "stream",
          "name": "stdout",
          "text": [
            "Weights h = [[1 1]\n",
            " [1 1]\n",
            " [1 1]]\n",
            "Weights h.shape = (3, 2)\n",
            "Weights x = [[9 9 9]\n",
            " [9 9 9]\n",
            " [9 9 9]]\n",
            "Weights x.shape = (3, 3)\n",
            "New matrix: [[1 1 9 9 9]\n",
            " [1 1 9 9 9]\n",
            " [1 1 9 9 9]]\n"
          ]
        }
      ]
    },
    {
      "cell_type": "markdown",
      "source": [
        "### Hidden state and inputs"
      ],
      "metadata": {
        "id": "JTqpk9QbR7rZ"
      }
    },
    {
      "cell_type": "code",
      "source": [
        "h_t_prev = np.full((2, 1), 1)\n",
        "x_t = np.full((3, 1), 9)\n",
        "\n",
        "ax_1 = np.concatenate(\n",
        "    (h_t_prev, x_t), axis=0\n",
        ")  # note the difference in axis parameter vs earlier\n",
        "print(\"option 1 : concatenate\\n\")\n",
        "print(\"ax_1 :\")\n",
        "print(ax_1)\n",
        "print(\"ax_1 shape :\", ax_1.shape, \"\\n\")\n",
        "\n",
        "# Option 2: vstack\n",
        "ax_2 = np.vstack((h_t_prev, x_t))\n",
        "print(\"option 2 : vstack\\n\")\n",
        "print(\"ax_2 :\")\n",
        "print(ax_2)\n",
        "print(\"ax_2 shape :\", ax_2.shape)"
      ],
      "metadata": {
        "colab": {
          "base_uri": "https://localhost:8080/"
        },
        "id": "NBdOmzhdRgBS",
        "outputId": "44d7ad00-f8d4-4c99-e014-b14639369ad5"
      },
      "execution_count": 6,
      "outputs": [
        {
          "output_type": "stream",
          "name": "stdout",
          "text": [
            "option 1 : concatenate\n",
            "\n",
            "ax_1 :\n",
            "[[1]\n",
            " [1]\n",
            " [9]\n",
            " [9]\n",
            " [9]]\n",
            "ax_1 shape : (5, 1) \n",
            "\n",
            "option 2 : vstack\n",
            "\n",
            "ax_2 :\n",
            "[[1]\n",
            " [1]\n",
            " [9]\n",
            " [9]\n",
            " [9]]\n",
            "ax_2 shape : (5, 1)\n"
          ]
        }
      ]
    },
    {
      "cell_type": "markdown",
      "source": [
        "### Verify formulas"
      ],
      "metadata": {
        "id": "Alz-YKrfSaac"
      }
    },
    {
      "cell_type": "code",
      "source": [
        "w_hh = np.full((3, 2), 1)\n",
        "w_hx = np.full((3, 3), 9)\n",
        "h_t_prev = np.full((2, 1), 1)\n",
        "x_t = np.full((3, 1), 9)\n",
        "\n",
        "stack_1 = np.hstack((w_hh, w_hx))\n",
        "stack_2 = np.vstack((h_t_prev, x_t))\n",
        "\n",
        "output = np.matmul(stack_1, stack_2)\n",
        "print(output.shape, output)"
      ],
      "metadata": {
        "colab": {
          "base_uri": "https://localhost:8080/"
        },
        "id": "FEdR6nCcSL6U",
        "outputId": "d8942786-7aad-4723-c8b5-d939bb6caf0f"
      },
      "execution_count": 8,
      "outputs": [
        {
          "output_type": "stream",
          "name": "stdout",
          "text": [
            "(3, 1) [[245]\n",
            " [245]\n",
            " [245]]\n"
          ]
        }
      ]
    },
    {
      "cell_type": "code",
      "source": [
        "output = np.matmul(w_hh, h_t_prev) + np.matmul(w_hx, x_t)\n",
        "print(output.shape, output)"
      ],
      "metadata": {
        "colab": {
          "base_uri": "https://localhost:8080/"
        },
        "id": "C9nw9j0XSyAt",
        "outputId": "f6a41edf-6f6c-4e2c-c6f6-163a1f24d06c"
      },
      "execution_count": 10,
      "outputs": [
        {
          "output_type": "stream",
          "name": "stdout",
          "text": [
            "(3, 1) [[245]\n",
            " [245]\n",
            " [245]]\n"
          ]
        }
      ]
    },
    {
      "cell_type": "code",
      "source": [],
      "metadata": {
        "id": "8xRLsAaHS_jG"
      },
      "execution_count": null,
      "outputs": []
    }
  ]
}