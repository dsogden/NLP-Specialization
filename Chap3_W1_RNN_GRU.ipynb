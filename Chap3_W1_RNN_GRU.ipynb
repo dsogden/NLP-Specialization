{
  "nbformat": 4,
  "nbformat_minor": 0,
  "metadata": {
    "colab": {
      "provenance": [],
      "authorship_tag": "ABX9TyPsAvO3kPuoruoDua4N+/+j",
      "include_colab_link": true
    },
    "kernelspec": {
      "name": "python3",
      "display_name": "Python 3"
    },
    "language_info": {
      "name": "python"
    }
  },
  "cells": [
    {
      "cell_type": "markdown",
      "metadata": {
        "id": "view-in-github",
        "colab_type": "text"
      },
      "source": [
        "<a href=\"https://colab.research.google.com/github/dsogden/NLP-Specialization/blob/main/Chap3_W1_RNN_GRU.ipynb\" target=\"_parent\"><img src=\"https://colab.research.google.com/assets/colab-badge.svg\" alt=\"Open In Colab\"/></a>"
      ]
    },
    {
      "cell_type": "code",
      "execution_count": 1,
      "metadata": {
        "id": "1suDk5URUIW_"
      },
      "outputs": [],
      "source": [
        "import numpy as np\n",
        "from numpy import random\n",
        "from time import perf_counter\n",
        "import tensorflow as tf"
      ]
    },
    {
      "cell_type": "code",
      "source": [
        "def sigmoid(x):\n",
        "    return 1 / (1 + np.exp(-x))"
      ],
      "metadata": {
        "id": "u4lUQYKOUThz"
      },
      "execution_count": 2,
      "outputs": []
    },
    {
      "cell_type": "code",
      "source": [
        "random.seed(10)\n",
        "emb = 128\n",
        "T = 256\n",
        "h_dim = 16\n",
        "h_0 = np.zeros((h_dim, 1))\n",
        "\n",
        "w1 = random.standard_normal((h_dim, emb + h_dim))\n",
        "w2 = random.standard_normal((h_dim, emb + h_dim))\n",
        "w3 = random.standard_normal((h_dim, emb + h_dim))\n",
        "b1 = random.standard_normal((h_dim, 1))\n",
        "b2 = random.standard_normal((h_dim, 1))\n",
        "b3 = random.standard_normal((h_dim, 1))\n",
        "# Random initialization of input X\n",
        "# Note that you add the third dimension (1) to achieve the batch representation.\n",
        "X = random.standard_normal((T, emb, 1))\n",
        "\n",
        "# Define the lists of weights as you will need them for the two different layers\n",
        "weights_vanilla = [w1, b1]\n",
        "weights_GRU = [w1.copy(), w2, w3, b1.copy(), b2, b3]"
      ],
      "metadata": {
        "id": "hX69ewxoUcvl"
      },
      "execution_count": 3,
      "outputs": []
    },
    {
      "cell_type": "code",
      "source": [
        "def forward_V_RNN(inputs, weights):\n",
        "    x, h_t = inputs\n",
        "    wh, bh = weights\n",
        "    h_t = np.dot(wh, np.concatenate([h_t, x])) + bh\n",
        "    h_t = sigmoid(h_t)\n",
        "    y = h_t\n",
        "    return y, h_t\n",
        "\n",
        "def forward_GRU(inputs, weights):\n",
        "    x, h_t = inputs\n",
        "\n",
        "    # weights.\n",
        "    wu, wr, wc, bu, br, bc = weights\n",
        "\n",
        "    u = np.dot(wu, np.concatenate([h_t, x])) + bu\n",
        "    u = sigmoid(u)\n",
        "\n",
        "    r = np.dot(wc, np.concatenate([h_t, x])) + br\n",
        "    r = sigmoid(r)\n",
        "\n",
        "    c = np.dot(wc, np.concatenate([r * h_t, x])) + bc\n",
        "    c = np.tanh(c)\n",
        "\n",
        "    h_t = u * c + (1 - u) * h_t\n",
        "    y = h_t\n",
        "    return y, h_t"
      ],
      "metadata": {
        "id": "8PDBo4uSUtPk"
      },
      "execution_count": 5,
      "outputs": []
    },
    {
      "cell_type": "code",
      "source": [
        "forward_GRU([X[1], h_0], weights_GRU)[0]"
      ],
      "metadata": {
        "colab": {
          "base_uri": "https://localhost:8080/"
        },
        "id": "ur_7Z2eoU92D",
        "outputId": "f14bc70d-28c3-4f59-a6c9-db610e18c23b"
      },
      "execution_count": 6,
      "outputs": [
        {
          "output_type": "execute_result",
          "data": {
            "text/plain": [
              "array([[ 9.77779014e-01],\n",
              "       [-9.97986240e-01],\n",
              "       [-5.19958083e-01],\n",
              "       [-9.99999886e-01],\n",
              "       [-9.99707004e-01],\n",
              "       [-3.02197037e-04],\n",
              "       [-9.58733503e-01],\n",
              "       [ 2.10804828e-02],\n",
              "       [ 9.77365398e-05],\n",
              "       [ 9.99833090e-01],\n",
              "       [ 1.63200940e-08],\n",
              "       [ 8.51874303e-01],\n",
              "       [ 5.21399924e-02],\n",
              "       [ 2.15495959e-02],\n",
              "       [ 9.99878828e-01],\n",
              "       [ 9.77165472e-01]])"
            ]
          },
          "metadata": {},
          "execution_count": 6
        }
      ]
    },
    {
      "cell_type": "code",
      "source": [
        "def scan(fn, elems, weights, h_0):\n",
        "    h_t = h_0\n",
        "    ys = []\n",
        "    for x in elems:\n",
        "        y, h_t = fn([x, h_t], weights)\n",
        "        ys.append(y)\n",
        "    return ys, h_t"
      ],
      "metadata": {
        "id": "5FFpumwCV4Sk"
      },
      "execution_count": 7,
      "outputs": []
    },
    {
      "cell_type": "code",
      "source": [
        "ys, h_t = scan(forward_V_RNN, X, weights_vanilla, h_0)\n",
        "print(f'Length of ys: {len(ys)}')\n",
        "print(f'Shape of each y within ys: {ys[0].shape}')\n",
        "print(f'Shape of h_T: {h_t.shape}')"
      ],
      "metadata": {
        "colab": {
          "base_uri": "https://localhost:8080/"
        },
        "id": "IE-giGepWHnF",
        "outputId": "de764528-6298-4cc6-945f-9d889771f782"
      },
      "execution_count": 10,
      "outputs": [
        {
          "output_type": "stream",
          "name": "stdout",
          "text": [
            "Length of ys: 256\n",
            "Shape of each y within ys: (16, 1)\n",
            "Shape of h_T: (16, 1)\n"
          ]
        }
      ]
    },
    {
      "cell_type": "code",
      "source": [
        "tic = perf_counter()\n",
        "ys, h_T = scan(forward_V_RNN, X, weights_vanilla, h_0)\n",
        "toc = perf_counter()\n",
        "RNN_time=(toc-tic)*1000\n",
        "print (f\"It took {RNN_time:.2f}ms to run the forward method for the vanilla RNN.\")\n",
        "\n",
        "tic = perf_counter()\n",
        "ys, h_T = scan(forward_GRU, X, weights_GRU, h_0)\n",
        "toc = perf_counter()\n",
        "GRU_time=(toc-tic)*1000\n",
        "print (f\"It took {GRU_time:.2f}ms to run the forward method for the GRU.\")"
      ],
      "metadata": {
        "colab": {
          "base_uri": "https://localhost:8080/"
        },
        "id": "VrejJJ5aWNZT",
        "outputId": "81fb0d70-b967-4060-9f94-56074c69f968"
      },
      "execution_count": 11,
      "outputs": [
        {
          "output_type": "stream",
          "name": "stdout",
          "text": [
            "It took 9.77ms to run the forward method for the vanilla RNN.\n",
            "It took 32.42ms to run the forward method for the GRU.\n"
          ]
        }
      ]
    },
    {
      "cell_type": "code",
      "source": [],
      "metadata": {
        "id": "g7x2iICgWeEm"
      },
      "execution_count": null,
      "outputs": []
    }
  ]
}