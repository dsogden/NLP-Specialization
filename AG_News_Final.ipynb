{
  "nbformat": 4,
  "nbformat_minor": 0,
  "metadata": {
    "colab": {
      "provenance": [],
      "mount_file_id": "1d7AjHc27c7OXzxOOMCjRyRRZpLqW4y3c",
      "authorship_tag": "ABX9TyML9ekMRtz4JOLiVVcOSsu1",
      "include_colab_link": true
    },
    "kernelspec": {
      "name": "python3",
      "display_name": "Python 3"
    },
    "language_info": {
      "name": "python"
    }
  },
  "cells": [
    {
      "cell_type": "markdown",
      "metadata": {
        "id": "view-in-github",
        "colab_type": "text"
      },
      "source": [
        "<a href=\"https://colab.research.google.com/github/dsogden/NLP-Specialization/blob/main/AG_News_Final.ipynb\" target=\"_parent\"><img src=\"https://colab.research.google.com/assets/colab-badge.svg\" alt=\"Open In Colab\"/></a>"
      ]
    },
    {
      "cell_type": "code",
      "execution_count": 100,
      "metadata": {
        "id": "DVEmOsARuMg-",
        "colab": {
          "base_uri": "https://localhost:8080/"
        },
        "outputId": "661e941f-02ed-495e-c458-bc973361a2d4"
      },
      "outputs": [
        {
          "output_type": "stream",
          "name": "stdout",
          "text": [
            "cpu\n"
          ]
        }
      ],
      "source": [
        "import numpy as np\n",
        "import pandas as pd\n",
        "import torch\n",
        "from torch import nn\n",
        "import torch.nn.functional as F\n",
        "from tqdm import tqdm\n",
        "import matplotlib.pyplot as plt\n",
        "\n",
        "device = (\n",
        "    \"cuda:0\"\n",
        "    if torch.cuda.is_available()\n",
        "    else \"cpu\"\n",
        ")\n",
        "print(device)"
      ]
    },
    {
      "cell_type": "code",
      "source": [
        "path = '/content/drive/MyDrive/0000.parquet'\n",
        "df = pd.read_parquet(path)\n",
        "df.head(10)"
      ],
      "metadata": {
        "colab": {
          "base_uri": "https://localhost:8080/",
          "height": 363
        },
        "id": "qMXMa1vFuTSB",
        "outputId": "078530c8-ae5f-4a1d-8460-35066f607ff4"
      },
      "execution_count": 101,
      "outputs": [
        {
          "output_type": "execute_result",
          "data": {
            "text/plain": [
              "                                                text  label\n",
              "0  Wall St. Bears Claw Back Into the Black (Reute...      2\n",
              "1  Carlyle Looks Toward Commercial Aerospace (Reu...      2\n",
              "2  Oil and Economy Cloud Stocks' Outlook (Reuters...      2\n",
              "3  Iraq Halts Oil Exports from Main Southern Pipe...      2\n",
              "4  Oil prices soar to all-time record, posing new...      2\n",
              "5  Stocks End Up, But Near Year Lows (Reuters) Re...      2\n",
              "6  Money Funds Fell in Latest Week (AP) AP - Asse...      2\n",
              "7  Fed minutes show dissent over inflation (USATO...      2\n",
              "8  Safety Net (Forbes.com) Forbes.com - After ear...      2\n",
              "9  Wall St. Bears Claw Back Into the Black  NEW Y...      2"
            ],
            "text/html": [
              "\n",
              "  <div id=\"df-ff61395a-105e-4983-87e3-110758c93148\" class=\"colab-df-container\">\n",
              "    <div>\n",
              "<style scoped>\n",
              "    .dataframe tbody tr th:only-of-type {\n",
              "        vertical-align: middle;\n",
              "    }\n",
              "\n",
              "    .dataframe tbody tr th {\n",
              "        vertical-align: top;\n",
              "    }\n",
              "\n",
              "    .dataframe thead th {\n",
              "        text-align: right;\n",
              "    }\n",
              "</style>\n",
              "<table border=\"1\" class=\"dataframe\">\n",
              "  <thead>\n",
              "    <tr style=\"text-align: right;\">\n",
              "      <th></th>\n",
              "      <th>text</th>\n",
              "      <th>label</th>\n",
              "    </tr>\n",
              "  </thead>\n",
              "  <tbody>\n",
              "    <tr>\n",
              "      <th>0</th>\n",
              "      <td>Wall St. Bears Claw Back Into the Black (Reute...</td>\n",
              "      <td>2</td>\n",
              "    </tr>\n",
              "    <tr>\n",
              "      <th>1</th>\n",
              "      <td>Carlyle Looks Toward Commercial Aerospace (Reu...</td>\n",
              "      <td>2</td>\n",
              "    </tr>\n",
              "    <tr>\n",
              "      <th>2</th>\n",
              "      <td>Oil and Economy Cloud Stocks' Outlook (Reuters...</td>\n",
              "      <td>2</td>\n",
              "    </tr>\n",
              "    <tr>\n",
              "      <th>3</th>\n",
              "      <td>Iraq Halts Oil Exports from Main Southern Pipe...</td>\n",
              "      <td>2</td>\n",
              "    </tr>\n",
              "    <tr>\n",
              "      <th>4</th>\n",
              "      <td>Oil prices soar to all-time record, posing new...</td>\n",
              "      <td>2</td>\n",
              "    </tr>\n",
              "    <tr>\n",
              "      <th>5</th>\n",
              "      <td>Stocks End Up, But Near Year Lows (Reuters) Re...</td>\n",
              "      <td>2</td>\n",
              "    </tr>\n",
              "    <tr>\n",
              "      <th>6</th>\n",
              "      <td>Money Funds Fell in Latest Week (AP) AP - Asse...</td>\n",
              "      <td>2</td>\n",
              "    </tr>\n",
              "    <tr>\n",
              "      <th>7</th>\n",
              "      <td>Fed minutes show dissent over inflation (USATO...</td>\n",
              "      <td>2</td>\n",
              "    </tr>\n",
              "    <tr>\n",
              "      <th>8</th>\n",
              "      <td>Safety Net (Forbes.com) Forbes.com - After ear...</td>\n",
              "      <td>2</td>\n",
              "    </tr>\n",
              "    <tr>\n",
              "      <th>9</th>\n",
              "      <td>Wall St. Bears Claw Back Into the Black  NEW Y...</td>\n",
              "      <td>2</td>\n",
              "    </tr>\n",
              "  </tbody>\n",
              "</table>\n",
              "</div>\n",
              "    <div class=\"colab-df-buttons\">\n",
              "\n",
              "  <div class=\"colab-df-container\">\n",
              "    <button class=\"colab-df-convert\" onclick=\"convertToInteractive('df-ff61395a-105e-4983-87e3-110758c93148')\"\n",
              "            title=\"Convert this dataframe to an interactive table.\"\n",
              "            style=\"display:none;\">\n",
              "\n",
              "  <svg xmlns=\"http://www.w3.org/2000/svg\" height=\"24px\" viewBox=\"0 -960 960 960\">\n",
              "    <path d=\"M120-120v-720h720v720H120Zm60-500h600v-160H180v160Zm220 220h160v-160H400v160Zm0 220h160v-160H400v160ZM180-400h160v-160H180v160Zm440 0h160v-160H620v160ZM180-180h160v-160H180v160Zm440 0h160v-160H620v160Z\"/>\n",
              "  </svg>\n",
              "    </button>\n",
              "\n",
              "  <style>\n",
              "    .colab-df-container {\n",
              "      display:flex;\n",
              "      gap: 12px;\n",
              "    }\n",
              "\n",
              "    .colab-df-convert {\n",
              "      background-color: #E8F0FE;\n",
              "      border: none;\n",
              "      border-radius: 50%;\n",
              "      cursor: pointer;\n",
              "      display: none;\n",
              "      fill: #1967D2;\n",
              "      height: 32px;\n",
              "      padding: 0 0 0 0;\n",
              "      width: 32px;\n",
              "    }\n",
              "\n",
              "    .colab-df-convert:hover {\n",
              "      background-color: #E2EBFA;\n",
              "      box-shadow: 0px 1px 2px rgba(60, 64, 67, 0.3), 0px 1px 3px 1px rgba(60, 64, 67, 0.15);\n",
              "      fill: #174EA6;\n",
              "    }\n",
              "\n",
              "    .colab-df-buttons div {\n",
              "      margin-bottom: 4px;\n",
              "    }\n",
              "\n",
              "    [theme=dark] .colab-df-convert {\n",
              "      background-color: #3B4455;\n",
              "      fill: #D2E3FC;\n",
              "    }\n",
              "\n",
              "    [theme=dark] .colab-df-convert:hover {\n",
              "      background-color: #434B5C;\n",
              "      box-shadow: 0px 1px 3px 1px rgba(0, 0, 0, 0.15);\n",
              "      filter: drop-shadow(0px 1px 2px rgba(0, 0, 0, 0.3));\n",
              "      fill: #FFFFFF;\n",
              "    }\n",
              "  </style>\n",
              "\n",
              "    <script>\n",
              "      const buttonEl =\n",
              "        document.querySelector('#df-ff61395a-105e-4983-87e3-110758c93148 button.colab-df-convert');\n",
              "      buttonEl.style.display =\n",
              "        google.colab.kernel.accessAllowed ? 'block' : 'none';\n",
              "\n",
              "      async function convertToInteractive(key) {\n",
              "        const element = document.querySelector('#df-ff61395a-105e-4983-87e3-110758c93148');\n",
              "        const dataTable =\n",
              "          await google.colab.kernel.invokeFunction('convertToInteractive',\n",
              "                                                    [key], {});\n",
              "        if (!dataTable) return;\n",
              "\n",
              "        const docLinkHtml = 'Like what you see? Visit the ' +\n",
              "          '<a target=\"_blank\" href=https://colab.research.google.com/notebooks/data_table.ipynb>data table notebook</a>'\n",
              "          + ' to learn more about interactive tables.';\n",
              "        element.innerHTML = '';\n",
              "        dataTable['output_type'] = 'display_data';\n",
              "        await google.colab.output.renderOutput(dataTable, element);\n",
              "        const docLink = document.createElement('div');\n",
              "        docLink.innerHTML = docLinkHtml;\n",
              "        element.appendChild(docLink);\n",
              "      }\n",
              "    </script>\n",
              "  </div>\n",
              "\n",
              "\n",
              "<div id=\"df-2404fa1b-ee8b-494c-8bcf-68e9bccef366\">\n",
              "  <button class=\"colab-df-quickchart\" onclick=\"quickchart('df-2404fa1b-ee8b-494c-8bcf-68e9bccef366')\"\n",
              "            title=\"Suggest charts\"\n",
              "            style=\"display:none;\">\n",
              "\n",
              "<svg xmlns=\"http://www.w3.org/2000/svg\" height=\"24px\"viewBox=\"0 0 24 24\"\n",
              "     width=\"24px\">\n",
              "    <g>\n",
              "        <path d=\"M19 3H5c-1.1 0-2 .9-2 2v14c0 1.1.9 2 2 2h14c1.1 0 2-.9 2-2V5c0-1.1-.9-2-2-2zM9 17H7v-7h2v7zm4 0h-2V7h2v10zm4 0h-2v-4h2v4z\"/>\n",
              "    </g>\n",
              "</svg>\n",
              "  </button>\n",
              "\n",
              "<style>\n",
              "  .colab-df-quickchart {\n",
              "      --bg-color: #E8F0FE;\n",
              "      --fill-color: #1967D2;\n",
              "      --hover-bg-color: #E2EBFA;\n",
              "      --hover-fill-color: #174EA6;\n",
              "      --disabled-fill-color: #AAA;\n",
              "      --disabled-bg-color: #DDD;\n",
              "  }\n",
              "\n",
              "  [theme=dark] .colab-df-quickchart {\n",
              "      --bg-color: #3B4455;\n",
              "      --fill-color: #D2E3FC;\n",
              "      --hover-bg-color: #434B5C;\n",
              "      --hover-fill-color: #FFFFFF;\n",
              "      --disabled-bg-color: #3B4455;\n",
              "      --disabled-fill-color: #666;\n",
              "  }\n",
              "\n",
              "  .colab-df-quickchart {\n",
              "    background-color: var(--bg-color);\n",
              "    border: none;\n",
              "    border-radius: 50%;\n",
              "    cursor: pointer;\n",
              "    display: none;\n",
              "    fill: var(--fill-color);\n",
              "    height: 32px;\n",
              "    padding: 0;\n",
              "    width: 32px;\n",
              "  }\n",
              "\n",
              "  .colab-df-quickchart:hover {\n",
              "    background-color: var(--hover-bg-color);\n",
              "    box-shadow: 0 1px 2px rgba(60, 64, 67, 0.3), 0 1px 3px 1px rgba(60, 64, 67, 0.15);\n",
              "    fill: var(--button-hover-fill-color);\n",
              "  }\n",
              "\n",
              "  .colab-df-quickchart-complete:disabled,\n",
              "  .colab-df-quickchart-complete:disabled:hover {\n",
              "    background-color: var(--disabled-bg-color);\n",
              "    fill: var(--disabled-fill-color);\n",
              "    box-shadow: none;\n",
              "  }\n",
              "\n",
              "  .colab-df-spinner {\n",
              "    border: 2px solid var(--fill-color);\n",
              "    border-color: transparent;\n",
              "    border-bottom-color: var(--fill-color);\n",
              "    animation:\n",
              "      spin 1s steps(1) infinite;\n",
              "  }\n",
              "\n",
              "  @keyframes spin {\n",
              "    0% {\n",
              "      border-color: transparent;\n",
              "      border-bottom-color: var(--fill-color);\n",
              "      border-left-color: var(--fill-color);\n",
              "    }\n",
              "    20% {\n",
              "      border-color: transparent;\n",
              "      border-left-color: var(--fill-color);\n",
              "      border-top-color: var(--fill-color);\n",
              "    }\n",
              "    30% {\n",
              "      border-color: transparent;\n",
              "      border-left-color: var(--fill-color);\n",
              "      border-top-color: var(--fill-color);\n",
              "      border-right-color: var(--fill-color);\n",
              "    }\n",
              "    40% {\n",
              "      border-color: transparent;\n",
              "      border-right-color: var(--fill-color);\n",
              "      border-top-color: var(--fill-color);\n",
              "    }\n",
              "    60% {\n",
              "      border-color: transparent;\n",
              "      border-right-color: var(--fill-color);\n",
              "    }\n",
              "    80% {\n",
              "      border-color: transparent;\n",
              "      border-right-color: var(--fill-color);\n",
              "      border-bottom-color: var(--fill-color);\n",
              "    }\n",
              "    90% {\n",
              "      border-color: transparent;\n",
              "      border-bottom-color: var(--fill-color);\n",
              "    }\n",
              "  }\n",
              "</style>\n",
              "\n",
              "  <script>\n",
              "    async function quickchart(key) {\n",
              "      const quickchartButtonEl =\n",
              "        document.querySelector('#' + key + ' button');\n",
              "      quickchartButtonEl.disabled = true;  // To prevent multiple clicks.\n",
              "      quickchartButtonEl.classList.add('colab-df-spinner');\n",
              "      try {\n",
              "        const charts = await google.colab.kernel.invokeFunction(\n",
              "            'suggestCharts', [key], {});\n",
              "      } catch (error) {\n",
              "        console.error('Error during call to suggestCharts:', error);\n",
              "      }\n",
              "      quickchartButtonEl.classList.remove('colab-df-spinner');\n",
              "      quickchartButtonEl.classList.add('colab-df-quickchart-complete');\n",
              "    }\n",
              "    (() => {\n",
              "      let quickchartButtonEl =\n",
              "        document.querySelector('#df-2404fa1b-ee8b-494c-8bcf-68e9bccef366 button');\n",
              "      quickchartButtonEl.style.display =\n",
              "        google.colab.kernel.accessAllowed ? 'block' : 'none';\n",
              "    })();\n",
              "  </script>\n",
              "</div>\n",
              "\n",
              "    </div>\n",
              "  </div>\n"
            ],
            "application/vnd.google.colaboratory.intrinsic+json": {
              "type": "dataframe",
              "variable_name": "df"
            }
          },
          "metadata": {},
          "execution_count": 101
        }
      ]
    },
    {
      "cell_type": "code",
      "source": [
        "import nltk\n",
        "from nltk.tokenize import word_tokenize\n",
        "import string\n",
        "import re\n",
        "\n",
        "nltk.download('stopwords')\n",
        "nltk.download('punkt')\n",
        "from nltk.corpus import stopwords"
      ],
      "metadata": {
        "colab": {
          "base_uri": "https://localhost:8080/"
        },
        "id": "ZtYHXKAbxcVL",
        "outputId": "8a01c46e-cc03-4dbb-970e-c430e2aaa809"
      },
      "execution_count": 102,
      "outputs": [
        {
          "output_type": "stream",
          "name": "stderr",
          "text": [
            "[nltk_data] Downloading package stopwords to /root/nltk_data...\n",
            "[nltk_data]   Package stopwords is already up-to-date!\n",
            "[nltk_data] Downloading package punkt to /root/nltk_data...\n",
            "[nltk_data]   Package punkt is already up-to-date!\n"
          ]
        }
      ]
    },
    {
      "cell_type": "code",
      "source": [
        "def text_lowercase(text):\n",
        "    return text.lower()\n",
        "\n",
        "def remove_url(text):\n",
        "    url_pattern = re.compile(r'https?://\\S+|www\\.\\S+')\n",
        "    return url_pattern.sub('', text)\n",
        "\n",
        "def remove_com(text):\n",
        "    return text.replace('.com', '')\n",
        "\n",
        "def remove_slashes(text):\n",
        "    return text.replace('\\\\', ' ').replace('-', ' ')\n",
        "\n",
        "def remove_numbers(text):\n",
        "    result = re.sub(r'\\d+', '', text)\n",
        "    return result\n",
        "\n",
        "def remove_whitespace(text):\n",
        "    return text.replace('  ', ' ')\n",
        "\n",
        "def remove_stopwords(text):\n",
        "    stop_words = set(stopwords.words('english'))\n",
        "    word_tokens = word_tokenize(text)\n",
        "    filtered_text = [\n",
        "        word for word in word_tokens\n",
        "        if (word not in stop_words) and (word not in string.punctuation)\n",
        "    ]\n",
        "    return filtered_text"
      ],
      "metadata": {
        "id": "7VrH2mVn3tdj"
      },
      "execution_count": 103,
      "outputs": []
    },
    {
      "cell_type": "code",
      "source": [
        "def pipeline(text):\n",
        "    lower = text_lowercase(text)\n",
        "    url = remove_url(lower)\n",
        "    com = remove_com(url)\n",
        "    slashes = remove_slashes(com)\n",
        "    numbers = remove_numbers(slashes)\n",
        "    whitespace = remove_whitespace(numbers)\n",
        "    filtered = remove_stopwords(whitespace)\n",
        "    return filtered\n",
        "\n",
        "output = [pipeline(text) for text in df.text]\n",
        "max_length = max(len(tokens) for tokens in output)\n",
        "print(max_length, output[:10])"
      ],
      "metadata": {
        "colab": {
          "base_uri": "https://localhost:8080/"
        },
        "id": "9fC7P3GE379G",
        "outputId": "c2b056ad-e46c-42ca-9213-89ad2eb48dba",
        "collapsed": true
      },
      "execution_count": 157,
      "outputs": [
        {
          "output_type": "stream",
          "name": "stdout",
          "text": [
            "168 [['wall', 'st.', 'bears', 'claw', 'back', 'black', 'reuters', 'reuters', 'short', 'sellers', 'wall', 'street', \"'s\", 'dwindling', 'band', 'ultra', 'cynics', 'seeing', 'green'], ['carlyle', 'looks', 'toward', 'commercial', 'aerospace', 'reuters', 'reuters', 'private', 'investment', 'firm', 'carlyle', 'group', 'reputation', 'making', 'well', 'timed', 'occasionally', 'controversial', 'plays', 'defense', 'industry', 'quietly', 'placed', 'bets', 'another', 'part', 'market'], ['oil', 'economy', 'cloud', 'stocks', 'outlook', 'reuters', 'reuters', 'soaring', 'crude', 'prices', 'plus', 'worries', 'economy', 'outlook', 'earnings', 'expected', 'hang', 'stock', 'market', 'next', 'week', 'depth', 'summer', 'doldrums'], ['iraq', 'halts', 'oil', 'exports', 'main', 'southern', 'pipeline', 'reuters', 'reuters', 'authorities', 'halted', 'oil', 'export', 'flows', 'main', 'pipeline', 'southern', 'iraq', 'intelligence', 'showed', 'rebel', 'militia', 'could', 'strike', 'infrastructure', 'oil', 'official', 'said', 'saturday'], ['oil', 'prices', 'soar', 'time', 'record', 'posing', 'new', 'menace', 'us', 'economy', 'afp', 'afp', 'tearaway', 'world', 'oil', 'prices', 'toppling', 'records', 'straining', 'wallets', 'present', 'new', 'economic', 'menace', 'barely', 'three', 'months', 'us', 'presidential', 'elections'], ['stocks', 'end', 'near', 'year', 'lows', 'reuters', 'reuters', 'stocks', 'ended', 'slightly', 'higher', 'friday', 'stayed', 'near', 'lows', 'year', 'oil', 'prices', 'surged', 'past', 'barrel', 'offsetting', 'positive', 'outlook', 'computer', 'maker', 'dell', 'inc.', 'dell.o'], ['money', 'funds', 'fell', 'latest', 'week', 'ap', 'ap', 'assets', 'nation', \"'s\", 'retail', 'money', 'market', 'mutual', 'funds', 'fell', 'billion', 'latest', 'week', 'trillion', 'investment', 'company', 'institute', 'said', 'thursday'], ['fed', 'minutes', 'show', 'dissent', 'inflation', 'usatoday', 'usatoday', 'retail', 'sales', 'bounced', 'back', 'bit', 'july', 'new', 'claims', 'jobless', 'benefits', 'fell', 'last', 'week', 'government', 'said', 'thursday', 'indicating', 'economy', 'improving', 'midsummer', 'slump'], ['safety', 'net', 'forbes', 'forbes', 'earning', 'ph.d.', 'sociology', 'danny', 'bazil', 'riley', 'started', 'work', 'general', 'manager', 'commercial', 'real', 'estate', 'firm', 'annual', 'base', 'salary', 'soon', 'financial', 'planner', 'stopped', 'desk', 'drop', 'brochures', 'insurance', 'benefits', 'available', 'employer', '``', 'buying', 'insurance', 'furthest', 'thing', 'mind', \"''\", 'says', 'riley'], ['wall', 'st.', 'bears', 'claw', 'back', 'black', 'new', 'york', 'reuters', 'short', 'sellers', 'wall', 'street', \"'s\", 'dwindling', 'band', 'ultra', 'cynics', 'seeing', 'green']]\n"
          ]
        }
      ]
    },
    {
      "cell_type": "code",
      "source": [
        "def build(tokens, max_length):\n",
        "    vocab = set(word for line in tokens for word in line)\n",
        "    N = len(tokens)\n",
        "    encoder = {word: idx + 1 for idx, word in enumerate(vocab)}\n",
        "    decoder = {idx: word for word, idx in encoder.items()}\n",
        "\n",
        "    X = np.zeros((N, max_length, ), dtype=np.int32)\n",
        "    for idx, line in enumerate(tokens):\n",
        "        for jdx, word in enumerate(line):\n",
        "            X[idx, jdx] = encoder[word]\n",
        "    return X, vocab, encoder, decoder"
      ],
      "metadata": {
        "id": "smaWHOorcwW_"
      },
      "execution_count": 158,
      "outputs": []
    },
    {
      "cell_type": "code",
      "source": [
        "from sklearn.model_selection import train_test_split\n",
        "\n",
        "X, vocab, encoder, decodder = build(output, max_length)\n",
        "\n",
        "X_train, X_valid, y_train, y_valid = train_test_split(\n",
        "    X, df.label.values, test_size=0.2, stratify=df.label.values, random_state=1\n",
        ")\n",
        "\n",
        "train_dataset = torch.utils.data.TensorDataset(\n",
        "    torch.tensor(X_train, dtype=torch.int32),\n",
        "    torch.tensor(y_train, dtype=torch.long)\n",
        ")\n",
        "\n",
        "valid_dataset = torch.utils.data.TensorDataset(\n",
        "    torch.tensor(X_valid, dtype=torch.int32),\n",
        "    torch.tensor(y_valid, dtype=torch.long)\n",
        ")\n",
        "\n",
        "train_dataloader = torch.utils.data.DataLoader(\n",
        "    train_dataset, batch_size=64, shuffle=True\n",
        ")\n",
        "\n",
        "valid_dataloader = torch.utils.data.DataLoader(\n",
        "    valid_dataset, batch_size=64, shuffle=False\n",
        ")\n",
        "\n",
        "criterion = nn.NLLLoss()"
      ],
      "metadata": {
        "id": "MBP0wLaWCvsM"
      },
      "execution_count": 159,
      "outputs": []
    },
    {
      "cell_type": "code",
      "source": [
        "class Classifier(nn.Module):\n",
        "    def __init__(self, input_dim, num_embeddings, embedding_dim, output_dim):\n",
        "        super().__init__()\n",
        "        self.embedding = nn.Embedding(num_embeddings, embedding_dim)\n",
        "        self.conv = nn.Sequential(\n",
        "            nn.Conv1d(input_dim, embedding_dim, 2, stride=2, padding='valid'),\n",
        "            nn.ELU(),\n",
        "            nn.Dropout(0.2),\n",
        "            nn.Conv1d(embedding_dim, 1, 2, stride=2, padding='valid'),\n",
        "            nn.ELU(),\n",
        "            nn.Dropout(0.2)\n",
        "        )\n",
        "        self.ff = nn.Linear(embedding_dim // 4, embedding_dim // 4)\n",
        "        self.output = nn.Linear(embedding_dim // 4, output_dim)\n",
        "        self.dropout = nn.Dropout(p=0.3)\n",
        "        self.elu = nn.ELU()\n",
        "\n",
        "    def forward(self, inputs):\n",
        "        embed = self.embedding(inputs)\n",
        "        conv = self.conv(embed)\n",
        "        ff = self.ff(conv.squeeze(1))\n",
        "        output = self.output(self.dropout(self.elu(ff)))\n",
        "        return F.log_softmax(output, dim=-1)"
      ],
      "metadata": {
        "id": "ulp3MXy6ccCU"
      },
      "execution_count": 162,
      "outputs": []
    },
    {
      "cell_type": "code",
      "source": [
        "model = Classifier(\n",
        "    max_length, len(vocab) + 1, 100, 4\n",
        ")\n",
        "optimizer = torch.optim.AdamW(model.parameters(), lr=3e-4)\n",
        "EPOCHS = 25\n",
        "\n",
        "history = {\n",
        "    'loss': np.zeros((EPOCHS, 2)),\n",
        "    'accuracy': np.zeros((EPOCHS, 2))\n",
        "}\n",
        "\n",
        "for epoch in tqdm(range(EPOCHS)):\n",
        "    train_loss = 0\n",
        "    train_acc = 0\n",
        "    model.train()\n",
        "    for batch, (X, y) in enumerate(train_dataloader):\n",
        "        preds = model(X)\n",
        "        loss = criterion(preds, y)\n",
        "        train_loss += loss.item()\n",
        "        train_acc += (torch.sum(preds.argmax(dim=-1) == y) / 64)\n",
        "        loss.backward()\n",
        "        optimizer.step()\n",
        "        optimizer.zero_grad()\n",
        "\n",
        "    train_loss /= batch + 1\n",
        "    train_acc /= batch + 1\n",
        "\n",
        "    valid_loss = 0\n",
        "    valid_acc = 0\n",
        "    model.eval()\n",
        "    for batch, (X, y) in enumerate(valid_dataloader):\n",
        "        preds = model(X)\n",
        "        loss = criterion(preds, y)\n",
        "        valid_loss += loss.item()\n",
        "        valid_acc += (torch.sum(preds.argmax(dim=-1) == y) / 64)\n",
        "\n",
        "    valid_loss /= batch + 1\n",
        "    valid_acc /= batch + 1\n",
        "\n",
        "    history['loss'][epoch] = train_loss, valid_loss\n",
        "    history['accuracy'][epoch] = train_acc.detach().numpy(), valid_acc.detach().numpy()\n",
        "    print(f'Train Loss: {train_loss:0.5f} Valid Loss: {valid_loss:0.5f}')\n",
        "    print(f'Train Accuracy: {train_acc * 100:0.2f} % Valid Accuracy: {valid_acc * 100:0.2f} %\\n')\n",
        "\n",
        "t_loss = history['loss'][:, 0]\n",
        "v_loss = history['loss'][:, 1]\n",
        "\n",
        "fig, ax = plt.subplots(figsize=(8, 6))\n",
        "ax.plot(t_loss, '.-', label='Training')\n",
        "ax.plot(v_loss, '.-', label='Validation')\n",
        "ax.set(\n",
        "    xlabel='Epochs',\n",
        "    ylabel='Loss',\n",
        "    xlim=[0, EPOCHS],\n",
        "    ylim=[0, 1.2]\n",
        ")\n",
        "ax.legend()\n",
        "plt.show()"
      ],
      "metadata": {
        "colab": {
          "base_uri": "https://localhost:8080/",
          "height": 1000
        },
        "id": "fkGaqNVatiaE",
        "outputId": "4216e161-6083-4378-f3d0-9dcea32f239e"
      },
      "execution_count": 167,
      "outputs": [
        {
          "output_type": "stream",
          "name": "stderr",
          "text": [
            "  4%|▍         | 1/25 [02:53<1:09:34, 173.94s/it]"
          ]
        },
        {
          "output_type": "stream",
          "name": "stdout",
          "text": [
            "Train Loss: 1.09737 Valid Loss: 0.64694\n",
            "Train Accuracy: 50.92 % Valid Accuracy: 76.63 %\n",
            "\n"
          ]
        },
        {
          "output_type": "stream",
          "name": "stderr",
          "text": [
            "\r  8%|▊         | 2/25 [06:05<1:10:41, 184.42s/it]"
          ]
        },
        {
          "output_type": "stream",
          "name": "stdout",
          "text": [
            "Train Loss: 0.61312 Valid Loss: 0.45452\n",
            "Train Accuracy: 77.65 % Valid Accuracy: 84.13 %\n",
            "\n"
          ]
        },
        {
          "output_type": "stream",
          "name": "stderr",
          "text": [
            "\r 12%|█▏        | 3/25 [09:14<1:08:25, 186.62s/it]"
          ]
        },
        {
          "output_type": "stream",
          "name": "stdout",
          "text": [
            "Train Loss: 0.46984 Valid Loss: 0.38447\n",
            "Train Accuracy: 83.68 % Valid Accuracy: 86.93 %\n",
            "\n"
          ]
        },
        {
          "output_type": "stream",
          "name": "stderr",
          "text": [
            "\r 16%|█▌        | 4/25 [12:25<1:05:50, 188.12s/it]"
          ]
        },
        {
          "output_type": "stream",
          "name": "stdout",
          "text": [
            "Train Loss: 0.39630 Valid Loss: 0.34589\n",
            "Train Accuracy: 86.52 % Valid Accuracy: 88.35 %\n",
            "\n"
          ]
        },
        {
          "output_type": "stream",
          "name": "stderr",
          "text": [
            "\r 20%|██        | 5/25 [15:35<1:02:55, 188.80s/it]"
          ]
        },
        {
          "output_type": "stream",
          "name": "stdout",
          "text": [
            "Train Loss: 0.35185 Valid Loss: 0.32213\n",
            "Train Accuracy: 88.13 % Valid Accuracy: 89.22 %\n",
            "\n"
          ]
        },
        {
          "output_type": "stream",
          "name": "stderr",
          "text": [
            "\r 24%|██▍       | 6/25 [18:45<59:53, 189.15s/it]  "
          ]
        },
        {
          "output_type": "stream",
          "name": "stdout",
          "text": [
            "Train Loss: 0.31632 Valid Loss: 0.30476\n",
            "Train Accuracy: 89.49 % Valid Accuracy: 89.74 %\n",
            "\n"
          ]
        },
        {
          "output_type": "stream",
          "name": "stderr",
          "text": [
            "\r 28%|██▊       | 7/25 [21:55<56:51, 189.52s/it]"
          ]
        },
        {
          "output_type": "stream",
          "name": "stdout",
          "text": [
            "Train Loss: 0.29265 Valid Loss: 0.29219\n",
            "Train Accuracy: 90.32 % Valid Accuracy: 90.22 %\n",
            "\n"
          ]
        },
        {
          "output_type": "stream",
          "name": "stderr",
          "text": [
            "\r 32%|███▏      | 8/25 [25:04<53:41, 189.52s/it]"
          ]
        },
        {
          "output_type": "stream",
          "name": "stdout",
          "text": [
            "Train Loss: 0.27054 Valid Loss: 0.28525\n",
            "Train Accuracy: 91.08 % Valid Accuracy: 90.44 %\n",
            "\n"
          ]
        },
        {
          "output_type": "stream",
          "name": "stderr",
          "text": [
            "\r 36%|███▌      | 9/25 [28:15<50:37, 189.85s/it]"
          ]
        },
        {
          "output_type": "stream",
          "name": "stdout",
          "text": [
            "Train Loss: 0.25383 Valid Loss: 0.27714\n",
            "Train Accuracy: 91.59 % Valid Accuracy: 90.76 %\n",
            "\n"
          ]
        },
        {
          "output_type": "stream",
          "name": "stderr",
          "text": [
            "\r 40%|████      | 10/25 [31:25<47:28, 189.93s/it]"
          ]
        },
        {
          "output_type": "stream",
          "name": "stdout",
          "text": [
            "Train Loss: 0.23881 Valid Loss: 0.27380\n",
            "Train Accuracy: 92.14 % Valid Accuracy: 90.94 %\n",
            "\n"
          ]
        },
        {
          "output_type": "stream",
          "name": "stderr",
          "text": [
            "\r 44%|████▍     | 11/25 [34:35<44:20, 190.05s/it]"
          ]
        },
        {
          "output_type": "stream",
          "name": "stdout",
          "text": [
            "Train Loss: 0.22606 Valid Loss: 0.26638\n",
            "Train Accuracy: 92.59 % Valid Accuracy: 91.17 %\n",
            "\n"
          ]
        },
        {
          "output_type": "stream",
          "name": "stderr",
          "text": [
            "\r 48%|████▊     | 12/25 [37:48<41:20, 190.82s/it]"
          ]
        },
        {
          "output_type": "stream",
          "name": "stdout",
          "text": [
            "Train Loss: 0.21458 Valid Loss: 0.26617\n",
            "Train Accuracy: 92.89 % Valid Accuracy: 91.20 %\n",
            "\n"
          ]
        },
        {
          "output_type": "stream",
          "name": "stderr",
          "text": [
            "\r 52%|█████▏    | 13/25 [40:59<38:09, 190.82s/it]"
          ]
        },
        {
          "output_type": "stream",
          "name": "stdout",
          "text": [
            "Train Loss: 0.20415 Valid Loss: 0.26241\n",
            "Train Accuracy: 93.25 % Valid Accuracy: 91.33 %\n",
            "\n"
          ]
        },
        {
          "output_type": "stream",
          "name": "stderr",
          "text": [
            "\r 56%|█████▌    | 14/25 [44:11<35:01, 191.07s/it]"
          ]
        },
        {
          "output_type": "stream",
          "name": "stdout",
          "text": [
            "Train Loss: 0.19310 Valid Loss: 0.26348\n",
            "Train Accuracy: 93.52 % Valid Accuracy: 91.43 %\n",
            "\n"
          ]
        },
        {
          "output_type": "stream",
          "name": "stderr",
          "text": [
            "\r 60%|██████    | 15/25 [47:22<31:53, 191.33s/it]"
          ]
        },
        {
          "output_type": "stream",
          "name": "stdout",
          "text": [
            "Train Loss: 0.18304 Valid Loss: 0.25901\n",
            "Train Accuracy: 93.90 % Valid Accuracy: 91.52 %\n",
            "\n"
          ]
        },
        {
          "output_type": "stream",
          "name": "stderr",
          "text": [
            "\r 64%|██████▍   | 16/25 [50:36<28:47, 191.96s/it]"
          ]
        },
        {
          "output_type": "stream",
          "name": "stdout",
          "text": [
            "Train Loss: 0.17546 Valid Loss: 0.26208\n",
            "Train Accuracy: 94.22 % Valid Accuracy: 91.50 %\n",
            "\n"
          ]
        },
        {
          "output_type": "stream",
          "name": "stderr",
          "text": [
            "\r 68%|██████▊   | 17/25 [53:55<25:52, 194.09s/it]"
          ]
        },
        {
          "output_type": "stream",
          "name": "stdout",
          "text": [
            "Train Loss: 0.16837 Valid Loss: 0.25841\n",
            "Train Accuracy: 94.37 % Valid Accuracy: 91.62 %\n",
            "\n"
          ]
        },
        {
          "output_type": "stream",
          "name": "stderr",
          "text": [
            "\r 72%|███████▏  | 18/25 [57:22<23:06, 198.09s/it]"
          ]
        },
        {
          "output_type": "stream",
          "name": "stdout",
          "text": [
            "Train Loss: 0.15942 Valid Loss: 0.26500\n",
            "Train Accuracy: 94.68 % Valid Accuracy: 91.54 %\n",
            "\n"
          ]
        },
        {
          "output_type": "stream",
          "name": "stderr",
          "text": [
            "\r 76%|███████▌  | 19/25 [1:00:47<20:00, 200.05s/it]"
          ]
        },
        {
          "output_type": "stream",
          "name": "stdout",
          "text": [
            "Train Loss: 0.15048 Valid Loss: 0.26526\n",
            "Train Accuracy: 94.97 % Valid Accuracy: 91.68 %\n",
            "\n"
          ]
        },
        {
          "output_type": "stream",
          "name": "stderr",
          "text": [
            "\r 80%|████████  | 20/25 [1:04:08<16:42, 200.42s/it]"
          ]
        },
        {
          "output_type": "stream",
          "name": "stdout",
          "text": [
            "Train Loss: 0.14410 Valid Loss: 0.26745\n",
            "Train Accuracy: 95.16 % Valid Accuracy: 91.61 %\n",
            "\n"
          ]
        },
        {
          "output_type": "stream",
          "name": "stderr",
          "text": [
            "\r 84%|████████▍ | 21/25 [1:07:29<13:22, 200.61s/it]"
          ]
        },
        {
          "output_type": "stream",
          "name": "stdout",
          "text": [
            "Train Loss: 0.13904 Valid Loss: 0.27245\n",
            "Train Accuracy: 95.33 % Valid Accuracy: 91.58 %\n",
            "\n"
          ]
        },
        {
          "output_type": "stream",
          "name": "stderr",
          "text": [
            "\r 88%|████████▊ | 22/25 [1:10:51<10:03, 201.03s/it]"
          ]
        },
        {
          "output_type": "stream",
          "name": "stdout",
          "text": [
            "Train Loss: 0.13312 Valid Loss: 0.27610\n",
            "Train Accuracy: 95.56 % Valid Accuracy: 91.60 %\n",
            "\n"
          ]
        },
        {
          "output_type": "stream",
          "name": "stderr",
          "text": [
            "\r 92%|█████████▏| 23/25 [1:14:09<06:40, 200.01s/it]"
          ]
        },
        {
          "output_type": "stream",
          "name": "stdout",
          "text": [
            "Train Loss: 0.12760 Valid Loss: 0.27743\n",
            "Train Accuracy: 95.70 % Valid Accuracy: 91.54 %\n",
            "\n"
          ]
        },
        {
          "output_type": "stream",
          "name": "stderr",
          "text": [
            "\r 96%|█████████▌| 24/25 [1:17:28<03:19, 199.82s/it]"
          ]
        },
        {
          "output_type": "stream",
          "name": "stdout",
          "text": [
            "Train Loss: 0.11973 Valid Loss: 0.28034\n",
            "Train Accuracy: 95.98 % Valid Accuracy: 91.52 %\n",
            "\n"
          ]
        },
        {
          "output_type": "stream",
          "name": "stderr",
          "text": [
            "100%|██████████| 25/25 [1:20:41<00:00, 193.66s/it]"
          ]
        },
        {
          "output_type": "stream",
          "name": "stdout",
          "text": [
            "Train Loss: 0.11543 Valid Loss: 0.28014\n",
            "Train Accuracy: 96.07 % Valid Accuracy: 91.53 %\n",
            "\n"
          ]
        },
        {
          "output_type": "stream",
          "name": "stderr",
          "text": [
            "\n"
          ]
        },
        {
          "output_type": "display_data",
          "data": {
            "text/plain": [
              "<Figure size 800x600 with 1 Axes>"
            ],
            "image/png": "[encoded data removed]"
          },
          "metadata": {}
        }
      ]
    },
    {
      "cell_type": "code",
      "source": [
        "t_loss = history['accuracy'][:, 0]\n",
        "v_loss = history['accuracy'][:, 1]\n",
        "\n",
        "fig, ax = plt.subplots(figsize=(8, 6))\n",
        "ax.plot(t_loss * 100, '.-', label='Training')\n",
        "ax.plot(v_loss * 100, '.-', label='Validation')\n",
        "ax.set(\n",
        "    xlabel='Epochs',\n",
        "    ylabel='Accuracy',\n",
        "    xlim=[0, EPOCHS],\n",
        "    ylim=[40, 100]\n",
        ")\n",
        "ax.legend()\n",
        "plt.show()"
      ],
      "metadata": {
        "colab": {
          "base_uri": "https://localhost:8080/",
          "height": 547
        },
        "id": "wZJ8Q4J2zDQs",
        "outputId": "7ff4e504-805b-4612-fa5a-1f229f6230cb"
      },
      "execution_count": 170,
      "outputs": [
        {
          "output_type": "display_data",
          "data": {
            "text/plain": [
              "<Figure size 800x600 with 1 Axes>"
            ],
            "image/png": "[encoded data removed]"
          },
          "metadata": {}
        }
      ]
    },
    {
      "cell_type": "code",
      "source": [
        "def classify(\n",
        "        model: nn.Module, samples: list, encoder: dict,\n",
        "        n_samples: int, batch_size=64, max_length: int=max_length,\n",
        "    ) -> int:\n",
        "    tensor = torch.zeros(size=(batch_size, max_length), dtype=torch.int32)\n",
        "    for idx, token in enumerate(samples):\n",
        "        for jdx, word in enumerate(token):\n",
        "            tensor[idx, jdx] = encoder[word]\n",
        "    labels = ['World', 'Sports', 'Business', 'Sci/Tech']\n",
        "    with torch.no_grad():\n",
        "       preds = model(tensor)\n",
        "    preds = preds[:n_samples, :].argmax(dim=-1)\n",
        "    for i in range(n_samples):\n",
        "        print('Predicted Class:', labels[preds[i].item()])"
      ],
      "metadata": {
        "id": "Vo8zMqxuRFGq"
      },
      "execution_count": 254,
      "outputs": []
    },
    {
      "cell_type": "code",
      "source": [
        "text = 'Georgia mayor faces felony charges after investigators say he stashed alcohol in ditch for prisoners'\n",
        "processed = pipeline(text)\n",
        "print(text)\n",
        "classify(model, [processed], encoder, n_samples=1)"
      ],
      "metadata": {
        "colab": {
          "base_uri": "https://localhost:8080/"
        },
        "id": "j8wvXPKcU5uR",
        "outputId": "265b2b37-77c6-4be0-d7d9-7fc3cdb9b314"
      },
      "execution_count": 255,
      "outputs": [
        {
          "output_type": "stream",
          "name": "stdout",
          "text": [
            "Georgia mayor faces felony charges after investigators say he stashed alcohol in ditch for prisoners\n",
            "Predicted Class: World\n"
          ]
        }
      ]
    },
    {
      "cell_type": "code",
      "source": [
        "text = 'A child was reported missing. A TV news helicopter crew spotted him on the roof playing skip'\n",
        "processed = pipeline(text)\n",
        "print(text)\n",
        "classify(model, [processed], encoder, n_samples=1)"
      ],
      "metadata": {
        "colab": {
          "base_uri": "https://localhost:8080/"
        },
        "id": "54XW9QlrZKoI",
        "outputId": "2e92b66f-a135-49bc-c69f-3a1ff53baa37"
      },
      "execution_count": 258,
      "outputs": [
        {
          "output_type": "stream",
          "name": "stdout",
          "text": [
            "A child was reported missing. A TV news helicopter crew spotted him on the roof playing skip\n",
            "Predicted Class: World\n"
          ]
        }
      ]
    },
    {
      "cell_type": "code",
      "source": [
        "text = 'Wall Street gains slightly, with weakness in banks and energy weighing'\n",
        "processed = pipeline(text)\n",
        "print(text)\n",
        "classify(model, [processed], encoder, n_samples=1)"
      ],
      "metadata": {
        "colab": {
          "base_uri": "https://localhost:8080/"
        },
        "id": "RNWknRIscAbE",
        "outputId": "3c3141c5-faea-4c90-c20b-1e828751e328"
      },
      "execution_count": 259,
      "outputs": [
        {
          "output_type": "stream",
          "name": "stdout",
          "text": [
            "Wall Street gains slightly, with weakness in banks and energy weighing\n",
            "Predicted Class: Business\n"
          ]
        }
      ]
    }
  ]
}