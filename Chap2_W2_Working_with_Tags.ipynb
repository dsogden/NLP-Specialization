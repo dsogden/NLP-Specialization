{
  "nbformat": 4,
  "nbformat_minor": 0,
  "metadata": {
    "colab": {
      "provenance": [],
      "authorship_tag": "ABX9TyPkNiln+g70DumR2tdDdOrz",
      "include_colab_link": true
    },
    "kernelspec": {
      "name": "python3",
      "display_name": "Python 3"
    },
    "language_info": {
      "name": "python"
    }
  },
  "cells": [
    {
      "cell_type": "markdown",
      "metadata": {
        "id": "view-in-github",
        "colab_type": "text"
      },
      "source": [
        "<a href=\"https://colab.research.google.com/github/dsogden/NLP-Specialization/blob/main/Chap2_W2_Working_with_Tags.ipynb\" target=\"_parent\"><img src=\"https://colab.research.google.com/assets/colab-badge.svg\" alt=\"Open In Colab\"/></a>"
      ]
    },
    {
      "cell_type": "code",
      "execution_count": 1,
      "metadata": {
        "id": "cLQi181We3rB"
      },
      "outputs": [],
      "source": [
        "import numpy as np\n",
        "import pandas as pd\n",
        "\n",
        "tags = ['RB', 'NN', 'TO']"
      ]
    },
    {
      "cell_type": "code",
      "source": [
        "transition_counts = {\n",
        "    ('NN', 'NN'): 16241,\n",
        "    ('RB', 'RB'): 2263,\n",
        "    ('TO', 'TO'): 2,\n",
        "    ('NN', 'TO'): 5256,\n",
        "    ('RB', 'TO'): 855,\n",
        "    ('TO', 'NN'): 734,\n",
        "    ('NN', 'RB'): 2431,\n",
        "    ('RB', 'NN'): 358,\n",
        "    ('TO', 'RB'): 200\n",
        "}"
      ],
      "metadata": {
        "id": "1K2UsC6ufPjJ"
      },
      "execution_count": 2,
      "outputs": []
    },
    {
      "cell_type": "markdown",
      "source": [
        "### Using Numpy for matrix creation"
      ],
      "metadata": {
        "id": "_RrvloAtgGoD"
      }
    },
    {
      "cell_type": "code",
      "source": [
        "num_tags = len(tags)\n",
        "transition_matrix = np.zeros((num_tags, num_tags))\n",
        "transition_matrix"
      ],
      "metadata": {
        "colab": {
          "base_uri": "https://localhost:8080/"
        },
        "id": "O684Kbz_gGGv",
        "outputId": "0559e4c7-9e3d-4f89-86da-e32e74a3d8a7"
      },
      "execution_count": 3,
      "outputs": [
        {
          "output_type": "execute_result",
          "data": {
            "text/plain": [
              "array([[0., 0., 0.],\n",
              "       [0., 0., 0.],\n",
              "       [0., 0., 0.]])"
            ]
          },
          "metadata": {},
          "execution_count": 3
        }
      ]
    },
    {
      "cell_type": "code",
      "source": [
        "sorted_tags = sorted(tags)\n",
        "print(f'Unsorted: {tags}')\n",
        "print(f'Sorted: {sorted_tags}')\n",
        "\n",
        "for i in range(num_tags):\n",
        "    for j in range(num_tags):\n",
        "        tag_tuple = (sorted_tags[i], sorted_tags[j])\n",
        "        transition_matrix[i, j] = transition_counts.get(tag_tuple)\n",
        "transition_matrix"
      ],
      "metadata": {
        "colab": {
          "base_uri": "https://localhost:8080/"
        },
        "id": "w8RTcASigQp1",
        "outputId": "b2b8d6e1-b9b8-4bfa-cc55-065b928fe655"
      },
      "execution_count": 4,
      "outputs": [
        {
          "output_type": "stream",
          "name": "stdout",
          "text": [
            "Unsorted: ['RB', 'NN', 'TO']\n",
            "Sorted: ['NN', 'RB', 'TO']\n"
          ]
        },
        {
          "output_type": "execute_result",
          "data": {
            "text/plain": [
              "array([[1.6241e+04, 2.4310e+03, 5.2560e+03],\n",
              "       [3.5800e+02, 2.2630e+03, 8.5500e+02],\n",
              "       [7.3400e+02, 2.0000e+02, 2.0000e+00]])"
            ]
          },
          "metadata": {},
          "execution_count": 4
        }
      ]
    },
    {
      "cell_type": "code",
      "source": [
        "def print_matrix(matrix, indices, columns):\n",
        "    print(pd.DataFrame(matrix, index=indices, columns=columns))\n",
        "print_matrix(transition_matrix, sorted_tags, sorted_tags)"
      ],
      "metadata": {
        "colab": {
          "base_uri": "https://localhost:8080/"
        },
        "id": "2YhmtnW7hYmI",
        "outputId": "0d1b4fca-7cdd-4f83-942d-25abb9079e20"
      },
      "execution_count": 5,
      "outputs": [
        {
          "output_type": "stream",
          "name": "stdout",
          "text": [
            "         NN      RB      TO\n",
            "NN  16241.0  2431.0  5256.0\n",
            "RB    358.0  2263.0   855.0\n",
            "TO    734.0   200.0     2.0\n"
          ]
        }
      ]
    },
    {
      "cell_type": "code",
      "source": [
        "# scale transition matrix\n",
        "transition_matrix = transition_matrix / 10\n",
        "print_matrix(transition_matrix, sorted_tags, sorted_tags)"
      ],
      "metadata": {
        "colab": {
          "base_uri": "https://localhost:8080/"
        },
        "id": "s3i6emfuhuCW",
        "outputId": "32e0215b-fbdc-4ba6-d370-22da16af7ec1"
      },
      "execution_count": 6,
      "outputs": [
        {
          "output_type": "stream",
          "name": "stdout",
          "text": [
            "        NN     RB     TO\n",
            "NN  1624.1  243.1  525.6\n",
            "RB    35.8  226.3   85.5\n",
            "TO    73.4   20.0    0.2\n"
          ]
        }
      ]
    },
    {
      "cell_type": "code",
      "source": [
        "rows_sum = transition_matrix.sum(axis=1, keepdims=True)\n",
        "rows_sum"
      ],
      "metadata": {
        "colab": {
          "base_uri": "https://localhost:8080/"
        },
        "id": "39uK1MT7iu47",
        "outputId": "94bbf631-7640-4019-9d35-5929891519ee"
      },
      "execution_count": 7,
      "outputs": [
        {
          "output_type": "execute_result",
          "data": {
            "text/plain": [
              "array([[2392.8],\n",
              "       [ 347.6],\n",
              "       [  93.6]])"
            ]
          },
          "metadata": {},
          "execution_count": 7
        }
      ]
    },
    {
      "cell_type": "code",
      "source": [
        "transition_matrix = transition_matrix / rows_sum\n",
        "print_matrix(transition_matrix, sorted_tags, sorted_tags)"
      ],
      "metadata": {
        "colab": {
          "base_uri": "https://localhost:8080/"
        },
        "id": "9fA0O2TOi4aE",
        "outputId": "5164e035-2049-4d06-944b-c9307fa1b86b"
      },
      "execution_count": 8,
      "outputs": [
        {
          "output_type": "stream",
          "name": "stdout",
          "text": [
            "          NN        RB        TO\n",
            "NN  0.678745  0.101596  0.219659\n",
            "RB  0.102992  0.651036  0.245972\n",
            "TO  0.784188  0.213675  0.002137\n"
          ]
        }
      ]
    },
    {
      "cell_type": "code",
      "source": [
        "transition_matrix.sum(axis=1, keepdims=True)"
      ],
      "metadata": {
        "colab": {
          "base_uri": "https://localhost:8080/"
        },
        "id": "SAAAfGupjBsg",
        "outputId": "f552bf3f-7d9d-4f24-ae90-8d0ac303c3a8"
      },
      "execution_count": 9,
      "outputs": [
        {
          "output_type": "execute_result",
          "data": {
            "text/plain": [
              "array([[1.],\n",
              "       [1.],\n",
              "       [1.]])"
            ]
          },
          "metadata": {},
          "execution_count": 9
        }
      ]
    },
    {
      "cell_type": "code",
      "source": [
        "import math\n",
        "\n",
        "t_matrix_for = np.copy(transition_matrix)\n",
        "t_matrix_np = np.copy(transition_matrix)\n",
        "\n",
        "for i in range(num_tags):\n",
        "    t_matrix_for[i, i] = t_matrix_for[i, i] + math.log(rows_sum[i])\n",
        "print_matrix(t_matrix_for, sorted_tags, sorted_tags)"
      ],
      "metadata": {
        "colab": {
          "base_uri": "https://localhost:8080/"
        },
        "id": "nDEbqgZrjLsg",
        "outputId": "97d72925-ee93-4172-a36d-aaf7846b8f3f"
      },
      "execution_count": 10,
      "outputs": [
        {
          "output_type": "stream",
          "name": "stdout",
          "text": [
            "          NN        RB        TO\n",
            "NN  8.458964  0.101596  0.219659\n",
            "RB  0.102992  6.502088  0.245972\n",
            "TO  0.784188  0.213675  4.541167\n"
          ]
        },
        {
          "output_type": "stream",
          "name": "stderr",
          "text": [
            "<ipython-input-10-6a44c6cfc45a>:7: DeprecationWarning: Conversion of an array with ndim > 0 to a scalar is deprecated, and will error in future. Ensure you extract a single element from your array before performing this operation. (Deprecated NumPy 1.25.)\n",
            "  t_matrix_for[i, i] = t_matrix_for[i, i] + math.log(rows_sum[i])\n"
          ]
        }
      ]
    },
    {
      "cell_type": "code",
      "source": [
        "d = np.diag(t_matrix_np)\n",
        "d.shape"
      ],
      "metadata": {
        "colab": {
          "base_uri": "https://localhost:8080/"
        },
        "id": "-hOnL5kXjmew",
        "outputId": "d17cd345-45c5-4e72-80af-59ed91ceb5a3"
      },
      "execution_count": 11,
      "outputs": [
        {
          "output_type": "execute_result",
          "data": {
            "text/plain": [
              "(3,)"
            ]
          },
          "metadata": {},
          "execution_count": 11
        }
      ]
    },
    {
      "cell_type": "code",
      "source": [
        "d = np.reshape(d, (3, 1))\n",
        "d.shape"
      ],
      "metadata": {
        "colab": {
          "base_uri": "https://localhost:8080/"
        },
        "id": "HhEFjS_gjysB",
        "outputId": "f4553d99-0f07-4c64-f803-84e266004f2d"
      },
      "execution_count": 12,
      "outputs": [
        {
          "output_type": "execute_result",
          "data": {
            "text/plain": [
              "(3, 1)"
            ]
          },
          "metadata": {},
          "execution_count": 12
        }
      ]
    },
    {
      "cell_type": "code",
      "source": [
        "d = d + np.vectorize(math.log)(rows_sum)\n",
        "np.fill_diagonal(t_matrix_np, d)\n",
        "print_matrix(t_matrix_np, sorted_tags, sorted_tags)"
      ],
      "metadata": {
        "colab": {
          "base_uri": "https://localhost:8080/"
        },
        "id": "t8KuJiwpj4wG",
        "outputId": "81146082-c36d-4907-c2b5-dbf8126a0087"
      },
      "execution_count": 13,
      "outputs": [
        {
          "output_type": "stream",
          "name": "stdout",
          "text": [
            "          NN        RB        TO\n",
            "NN  8.458964  0.101596  0.219659\n",
            "RB  0.102992  6.502088  0.245972\n",
            "TO  0.784188  0.213675  4.541167\n"
          ]
        }
      ]
    }
  ]
}